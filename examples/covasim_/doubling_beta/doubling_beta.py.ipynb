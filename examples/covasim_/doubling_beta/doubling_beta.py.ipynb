{
 "cells": [
  {
   "cell_type": "code",
   "execution_count": 42,
   "id": "5772c02c-eeba-4f48-9425-53abf2439345",
   "metadata": {},
   "outputs": [
    {
     "data": {
      "text/html": [
       "\n",
       "<div style=\"display: flex; justify-content: left; align-items: center; gap: 20px;\">\n",
       "    <div>\n",
       "        <img src=\"../../../docs/source/_static/images/CITCOM-logo.png\" width=\"300\">\n",
       "    </div>\n",
       "    <div>\n",
       "        <img src=\"../../../docs/source/_static/images/Sheffield-logo.png\" width=\"700\">\n",
       "    </div>\n",
       "</div>\n"
      ],
      "text/plain": [
       "<IPython.core.display.HTML object>"
      ]
     },
     "metadata": {},
     "output_type": "display_data"
    }
   ],
   "source": [
    "from IPython.display import HTML, display\n",
    "\n",
    "html = \"\"\"\n",
    "<div style=\"display: flex; justify-content: left; align-items: center; gap: 20px;\">\n",
    "    <div>\n",
    "        <img src=\"../../../docs/source/_static/images/CITCOM-logo.png\" width=\"300\">\n",
    "    </div>\n",
    "    <div>\n",
    "        <img src=\"../../../docs/source/_static/images/Sheffield-logo.png\" width=\"700\">\n",
    "    </div>\n",
    "</div>\n",
    "\"\"\"\n",
    "\n",
    "display(HTML(html))"
   ]
  },
  {
   "cell_type": "code",
   "execution_count": 43,
   "id": "723a51ed-ff3c-4205-b2d3-4ebc0434dfac",
   "metadata": {},
   "outputs": [
    {
     "data": {
      "text/html": [
       "<style>div.input { display: none; }</style>"
      ],
      "text/plain": [
       "<IPython.core.display.HTML object>"
      ]
     },
     "execution_count": 43,
     "metadata": {},
     "output_type": "execute_result"
    }
   ],
   "source": []
  }
 ],
 "metadata": {
  "kernelspec": {
   "display_name": "Python 3 (ipykernel)",
   "language": "python",
   "name": "python3"
  },
  "language_info": {
   "codemirror_mode": {
    "name": "ipython",
    "version": 3
   },
   "file_extension": ".py",
   "mimetype": "text/x-python",
   "name": "python",
   "nbconvert_exporter": "python",
   "pygments_lexer": "ipython3",
   "version": "3.10.11"
  }
 },
 "nbformat": 4,
 "nbformat_minor": 5
}
